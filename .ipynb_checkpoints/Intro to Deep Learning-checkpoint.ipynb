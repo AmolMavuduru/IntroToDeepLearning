{
 "cells": [
  {
   "cell_type": "markdown",
   "metadata": {},
   "source": [
    "# Intro to Deep Learning with Keras\n",
    "\n",
    "This Jupyter notebook contains code and explanations for the 2018 AIS Intro to Deep Learning workshop.\n",
    "\n",
    "## How to Use This Notebook\n",
    "This notebook has several cells, some with markdown and others with runnable Python code. To run a cell, click on the cell and then use the **SHIFT + ENTER** keyboard shortcut or navigate to **Cell** in the top menu bar and click on **Run Cells** in the dropdown menu.\n",
    "\n",
    "## Software Prerequisites\n",
    "Make sure to install the following software/libraries:\n",
    "\n",
    "- **Anaconda** - Python distribution with many useful libraries\n",
    "- **TensorFlow** - deep learning library, acts as a backend for Keras\n",
    "- **Keras** - a high-level deep learning library that runs on top of TensorFlow\n"
   ]
  },
  {
   "cell_type": "code",
   "execution_count": null,
   "metadata": {
    "collapsed": true
   },
   "outputs": [],
   "source": []
  }
 ],
 "metadata": {
  "anaconda-cloud": {},
  "kernelspec": {
   "display_name": "Python [default]",
   "language": "python",
   "name": "python3"
  },
  "language_info": {
   "codemirror_mode": {
    "name": "ipython",
    "version": 3
   },
   "file_extension": ".py",
   "mimetype": "text/x-python",
   "name": "python",
   "nbconvert_exporter": "python",
   "pygments_lexer": "ipython3",
   "version": "3.5.2"
  }
 },
 "nbformat": 4,
 "nbformat_minor": 2
}
