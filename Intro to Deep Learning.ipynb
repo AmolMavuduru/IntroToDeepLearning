{
 "cells": [
  {
   "cell_type": "markdown",
   "metadata": {},
   "source": [
    "# Intro to Deep Learning with Keras\n",
    "\n",
    "This Jupyter notebook contains code and explanations for the 2018 AIS Intro to Deep Learning workshop.\n",
    "\n",
    "## How to Use This Notebook\n",
    "This notebook has several cells, some with markdown and others with runnable Python code. To run a cell, click on the cell and then use the **SHIFT + ENTER** keyboard shortcut or navigate to **Cell** in the top menu bar and click on **Run Cells** in the dropdown menu.\n",
    "\n",
    "## Software Prerequisites\n",
    "Make sure to install the following software/libraries:\n",
    "\n",
    "- **Anaconda** - Python distribution with many useful libraries\n",
    "- **TensorFlow** - deep learning library, acts as a backend for Keras\n",
    "- **Keras** - a high-level deep learning library that runs on top of TensorFlow\n",
    "\n",
    "## Libraries Used\n",
    "\n",
    "- **Numpy** - for handling linear algebra and numerical computations in machine learning.\n",
    "- **Pandas** - for reading in, preprocessing, and analyzing data.\n",
    "- **SciKit-Learn** - a general-purpose ML library.\n",
    "- **Keras** - features a simple API for deep learning.\n",
    "\n",
    "## About the Dataset - Predicting Income Class Using Census Data\n",
    "The goal of this exercise is to train a neural network to predict whether or not a person earns over $50K per year using information from Census data. This is an example of a **binary classification** problem. The dataset is present in the GitHub repo for this workshop, but can also be found online at the UCI Machine Learning repository: https://archive.ics.uci.edu/ml/datasets/Adult"
   ]
  },
  {
   "cell_type": "markdown",
   "metadata": {},
   "source": [
    "## Importing Numpy and Pandas"
   ]
  },
  {
   "cell_type": "code",
   "execution_count": 1,
   "metadata": {
    "collapsed": true
   },
   "outputs": [],
   "source": [
    "import numpy as np\n",
    "import pandas as pd"
   ]
  },
  {
   "cell_type": "markdown",
   "metadata": {},
   "source": [
    "## Reading in the Data\n",
    "Using Pandas, we can read the dataset from a zipped csv file, and store the data in a dataframe object."
   ]
  },
  {
   "cell_type": "code",
   "execution_count": 2,
   "metadata": {
    "collapsed": false
   },
   "outputs": [
    {
     "data": {
      "text/html": [
       "<div>\n",
       "<style scoped>\n",
       "    .dataframe tbody tr th:only-of-type {\n",
       "        vertical-align: middle;\n",
       "    }\n",
       "\n",
       "    .dataframe tbody tr th {\n",
       "        vertical-align: top;\n",
       "    }\n",
       "\n",
       "    .dataframe thead th {\n",
       "        text-align: right;\n",
       "    }\n",
       "</style>\n",
       "<table border=\"1\" class=\"dataframe\">\n",
       "  <thead>\n",
       "    <tr style=\"text-align: right;\">\n",
       "      <th></th>\n",
       "      <th>age</th>\n",
       "      <th>workclass</th>\n",
       "      <th>fnlwgt</th>\n",
       "      <th>education</th>\n",
       "      <th>education.num</th>\n",
       "      <th>marital.status</th>\n",
       "      <th>occupation</th>\n",
       "      <th>relationship</th>\n",
       "      <th>race</th>\n",
       "      <th>sex</th>\n",
       "      <th>capital.gain</th>\n",
       "      <th>capital.loss</th>\n",
       "      <th>hours.per.week</th>\n",
       "      <th>native.country</th>\n",
       "      <th>income</th>\n",
       "    </tr>\n",
       "  </thead>\n",
       "  <tbody>\n",
       "    <tr>\n",
       "      <th>0</th>\n",
       "      <td>90</td>\n",
       "      <td>?</td>\n",
       "      <td>77053</td>\n",
       "      <td>HS-grad</td>\n",
       "      <td>9</td>\n",
       "      <td>Widowed</td>\n",
       "      <td>?</td>\n",
       "      <td>Not-in-family</td>\n",
       "      <td>White</td>\n",
       "      <td>Female</td>\n",
       "      <td>0</td>\n",
       "      <td>4356</td>\n",
       "      <td>40</td>\n",
       "      <td>United-States</td>\n",
       "      <td>&lt;=50K</td>\n",
       "    </tr>\n",
       "    <tr>\n",
       "      <th>1</th>\n",
       "      <td>82</td>\n",
       "      <td>Private</td>\n",
       "      <td>132870</td>\n",
       "      <td>HS-grad</td>\n",
       "      <td>9</td>\n",
       "      <td>Widowed</td>\n",
       "      <td>Exec-managerial</td>\n",
       "      <td>Not-in-family</td>\n",
       "      <td>White</td>\n",
       "      <td>Female</td>\n",
       "      <td>0</td>\n",
       "      <td>4356</td>\n",
       "      <td>18</td>\n",
       "      <td>United-States</td>\n",
       "      <td>&lt;=50K</td>\n",
       "    </tr>\n",
       "    <tr>\n",
       "      <th>2</th>\n",
       "      <td>66</td>\n",
       "      <td>?</td>\n",
       "      <td>186061</td>\n",
       "      <td>Some-college</td>\n",
       "      <td>10</td>\n",
       "      <td>Widowed</td>\n",
       "      <td>?</td>\n",
       "      <td>Unmarried</td>\n",
       "      <td>Black</td>\n",
       "      <td>Female</td>\n",
       "      <td>0</td>\n",
       "      <td>4356</td>\n",
       "      <td>40</td>\n",
       "      <td>United-States</td>\n",
       "      <td>&lt;=50K</td>\n",
       "    </tr>\n",
       "    <tr>\n",
       "      <th>3</th>\n",
       "      <td>54</td>\n",
       "      <td>Private</td>\n",
       "      <td>140359</td>\n",
       "      <td>7th-8th</td>\n",
       "      <td>4</td>\n",
       "      <td>Divorced</td>\n",
       "      <td>Machine-op-inspct</td>\n",
       "      <td>Unmarried</td>\n",
       "      <td>White</td>\n",
       "      <td>Female</td>\n",
       "      <td>0</td>\n",
       "      <td>3900</td>\n",
       "      <td>40</td>\n",
       "      <td>United-States</td>\n",
       "      <td>&lt;=50K</td>\n",
       "    </tr>\n",
       "    <tr>\n",
       "      <th>4</th>\n",
       "      <td>41</td>\n",
       "      <td>Private</td>\n",
       "      <td>264663</td>\n",
       "      <td>Some-college</td>\n",
       "      <td>10</td>\n",
       "      <td>Separated</td>\n",
       "      <td>Prof-specialty</td>\n",
       "      <td>Own-child</td>\n",
       "      <td>White</td>\n",
       "      <td>Female</td>\n",
       "      <td>0</td>\n",
       "      <td>3900</td>\n",
       "      <td>40</td>\n",
       "      <td>United-States</td>\n",
       "      <td>&lt;=50K</td>\n",
       "    </tr>\n",
       "  </tbody>\n",
       "</table>\n",
       "</div>"
      ],
      "text/plain": [
       "   age workclass  fnlwgt     education  education.num marital.status  \\\n",
       "0   90         ?   77053       HS-grad              9        Widowed   \n",
       "1   82   Private  132870       HS-grad              9        Widowed   \n",
       "2   66         ?  186061  Some-college             10        Widowed   \n",
       "3   54   Private  140359       7th-8th              4       Divorced   \n",
       "4   41   Private  264663  Some-college             10      Separated   \n",
       "\n",
       "          occupation   relationship   race     sex  capital.gain  \\\n",
       "0                  ?  Not-in-family  White  Female             0   \n",
       "1    Exec-managerial  Not-in-family  White  Female             0   \n",
       "2                  ?      Unmarried  Black  Female             0   \n",
       "3  Machine-op-inspct      Unmarried  White  Female             0   \n",
       "4     Prof-specialty      Own-child  White  Female             0   \n",
       "\n",
       "   capital.loss  hours.per.week native.country income  \n",
       "0          4356              40  United-States  <=50K  \n",
       "1          4356              18  United-States  <=50K  \n",
       "2          4356              40  United-States  <=50K  \n",
       "3          3900              40  United-States  <=50K  \n",
       "4          3900              40  United-States  <=50K  "
      ]
     },
     "execution_count": 2,
     "metadata": {},
     "output_type": "execute_result"
    }
   ],
   "source": [
    "data = pd.read_csv('adult-census-income.zip')\n",
    "data.head() # Displays the first 5 rows of the data"
   ]
  },
  {
   "cell_type": "code",
   "execution_count": 3,
   "metadata": {
    "collapsed": false
   },
   "outputs": [
    {
     "name": "stdout",
     "output_type": "stream",
     "text": [
      "<class 'pandas.core.frame.DataFrame'>\n",
      "RangeIndex: 32561 entries, 0 to 32560\n",
      "Data columns (total 15 columns):\n",
      "age               32561 non-null int64\n",
      "workclass         32561 non-null object\n",
      "fnlwgt            32561 non-null int64\n",
      "education         32561 non-null object\n",
      "education.num     32561 non-null int64\n",
      "marital.status    32561 non-null object\n",
      "occupation        32561 non-null object\n",
      "relationship      32561 non-null object\n",
      "race              32561 non-null object\n",
      "sex               32561 non-null object\n",
      "capital.gain      32561 non-null int64\n",
      "capital.loss      32561 non-null int64\n",
      "hours.per.week    32561 non-null int64\n",
      "native.country    32561 non-null object\n",
      "income            32561 non-null object\n",
      "dtypes: int64(6), object(9)\n",
      "memory usage: 3.7+ MB\n"
     ]
    }
   ],
   "source": [
    "data.info()"
   ]
  },
  {
   "cell_type": "markdown",
   "metadata": {},
   "source": [
    "### Label Encoding the Data"
   ]
  },
  {
   "cell_type": "code",
   "execution_count": 4,
   "metadata": {
    "collapsed": false
   },
   "outputs": [
    {
     "data": {
      "text/plain": [
       "array(['HS-grad', 'Some-college', '7th-8th', '10th', 'Doctorate',\n",
       "       'Prof-school', 'Bachelors', 'Masters', '11th', 'Assoc-acdm',\n",
       "       'Assoc-voc', '1st-4th', '5th-6th', '12th', '9th', 'Preschool'],\n",
       "      dtype=object)"
      ]
     },
     "execution_count": 4,
     "metadata": {},
     "output_type": "execute_result"
    }
   ],
   "source": [
    "data['education'].unique()"
   ]
  },
  {
   "cell_type": "code",
   "execution_count": 5,
   "metadata": {
    "collapsed": true
   },
   "outputs": [],
   "source": [
    "def encode_education(education):\n",
    "    \n",
    "    code_dict = {'Preschool':0,\n",
    "                 '1st-4th': 1,\n",
    "                 '5th-6th': 2,\n",
    "                 '7th-8th': 3,\n",
    "                 '9th': 4,\n",
    "                 '10th': 5,\n",
    "                 '11th': 6,\n",
    "                 '12th': 7,\n",
    "                 'HS-grad': 8,\n",
    "                 'Prof-school': 9,\n",
    "                 'Some-college': 10,\n",
    "                 'Assoc-voc': 11,\n",
    "                 'Assoc-acdm': 12,\n",
    "                 'Bachelors': 13,\n",
    "                 'Masters': 14,\n",
    "                 'Doctorate': 15}\n",
    "    \n",
    "    return code_dict[education]\n",
    "\n",
    "data['education'] = data['education'].apply(encode_education)"
   ]
  },
  {
   "cell_type": "code",
   "execution_count": 6,
   "metadata": {
    "collapsed": false
   },
   "outputs": [
    {
     "data": {
      "text/plain": [
       "array(['United-States', '?', 'Mexico', 'Greece', 'Vietnam', 'China',\n",
       "       'Taiwan', 'India', 'Philippines', 'Trinadad&Tobago', 'Canada',\n",
       "       'South', 'Holand-Netherlands', 'Puerto-Rico', 'Poland', 'Iran',\n",
       "       'England', 'Germany', 'Italy', 'Japan', 'Hong', 'Honduras', 'Cuba',\n",
       "       'Ireland', 'Cambodia', 'Peru', 'Nicaragua', 'Dominican-Republic',\n",
       "       'Haiti', 'El-Salvador', 'Hungary', 'Columbia', 'Guatemala',\n",
       "       'Jamaica', 'Ecuador', 'France', 'Yugoslavia', 'Scotland',\n",
       "       'Portugal', 'Laos', 'Thailand', 'Outlying-US(Guam-USVI-etc)'],\n",
       "      dtype=object)"
      ]
     },
     "execution_count": 6,
     "metadata": {},
     "output_type": "execute_result"
    }
   ],
   "source": [
    "data['native.country'].unique()"
   ]
  },
  {
   "cell_type": "code",
   "execution_count": 7,
   "metadata": {
    "collapsed": false
   },
   "outputs": [
    {
     "name": "stdout",
     "output_type": "stream",
     "text": [
      "<class 'pandas.core.frame.DataFrame'>\n",
      "RangeIndex: 32561 entries, 0 to 32560\n",
      "Data columns (total 93 columns):\n",
      "age                                          32561 non-null int64\n",
      "fnlwgt                                       32561 non-null int64\n",
      "education                                    32561 non-null int64\n",
      "education.num                                32561 non-null int64\n",
      "sex                                          32561 non-null int64\n",
      "capital.gain                                 32561 non-null int64\n",
      "capital.loss                                 32561 non-null int64\n",
      "hours.per.week                               32561 non-null int64\n",
      "income                                       32561 non-null int64\n",
      "workclass_?                                  32561 non-null uint8\n",
      "workclass_Federal-gov                        32561 non-null uint8\n",
      "workclass_Local-gov                          32561 non-null uint8\n",
      "workclass_Never-worked                       32561 non-null uint8\n",
      "workclass_Private                            32561 non-null uint8\n",
      "workclass_Self-emp-inc                       32561 non-null uint8\n",
      "workclass_Self-emp-not-inc                   32561 non-null uint8\n",
      "workclass_State-gov                          32561 non-null uint8\n",
      "workclass_Without-pay                        32561 non-null uint8\n",
      "marital.status_Divorced                      32561 non-null uint8\n",
      "marital.status_Married-AF-spouse             32561 non-null uint8\n",
      "marital.status_Married-civ-spouse            32561 non-null uint8\n",
      "marital.status_Married-spouse-absent         32561 non-null uint8\n",
      "marital.status_Never-married                 32561 non-null uint8\n",
      "marital.status_Separated                     32561 non-null uint8\n",
      "marital.status_Widowed                       32561 non-null uint8\n",
      "occupation_?                                 32561 non-null uint8\n",
      "occupation_Adm-clerical                      32561 non-null uint8\n",
      "occupation_Armed-Forces                      32561 non-null uint8\n",
      "occupation_Craft-repair                      32561 non-null uint8\n",
      "occupation_Exec-managerial                   32561 non-null uint8\n",
      "occupation_Farming-fishing                   32561 non-null uint8\n",
      "occupation_Handlers-cleaners                 32561 non-null uint8\n",
      "occupation_Machine-op-inspct                 32561 non-null uint8\n",
      "occupation_Other-service                     32561 non-null uint8\n",
      "occupation_Priv-house-serv                   32561 non-null uint8\n",
      "occupation_Prof-specialty                    32561 non-null uint8\n",
      "occupation_Protective-serv                   32561 non-null uint8\n",
      "occupation_Sales                             32561 non-null uint8\n",
      "occupation_Tech-support                      32561 non-null uint8\n",
      "occupation_Transport-moving                  32561 non-null uint8\n",
      "relationship_Husband                         32561 non-null uint8\n",
      "relationship_Not-in-family                   32561 non-null uint8\n",
      "relationship_Other-relative                  32561 non-null uint8\n",
      "relationship_Own-child                       32561 non-null uint8\n",
      "relationship_Unmarried                       32561 non-null uint8\n",
      "relationship_Wife                            32561 non-null uint8\n",
      "race_Amer-Indian-Eskimo                      32561 non-null uint8\n",
      "race_Asian-Pac-Islander                      32561 non-null uint8\n",
      "race_Black                                   32561 non-null uint8\n",
      "race_Other                                   32561 non-null uint8\n",
      "race_White                                   32561 non-null uint8\n",
      "native.country_?                             32561 non-null uint8\n",
      "native.country_Cambodia                      32561 non-null uint8\n",
      "native.country_Canada                        32561 non-null uint8\n",
      "native.country_China                         32561 non-null uint8\n",
      "native.country_Columbia                      32561 non-null uint8\n",
      "native.country_Cuba                          32561 non-null uint8\n",
      "native.country_Dominican-Republic            32561 non-null uint8\n",
      "native.country_Ecuador                       32561 non-null uint8\n",
      "native.country_El-Salvador                   32561 non-null uint8\n",
      "native.country_England                       32561 non-null uint8\n",
      "native.country_France                        32561 non-null uint8\n",
      "native.country_Germany                       32561 non-null uint8\n",
      "native.country_Greece                        32561 non-null uint8\n",
      "native.country_Guatemala                     32561 non-null uint8\n",
      "native.country_Haiti                         32561 non-null uint8\n",
      "native.country_Holand-Netherlands            32561 non-null uint8\n",
      "native.country_Honduras                      32561 non-null uint8\n",
      "native.country_Hong                          32561 non-null uint8\n",
      "native.country_Hungary                       32561 non-null uint8\n",
      "native.country_India                         32561 non-null uint8\n",
      "native.country_Iran                          32561 non-null uint8\n",
      "native.country_Ireland                       32561 non-null uint8\n",
      "native.country_Italy                         32561 non-null uint8\n",
      "native.country_Jamaica                       32561 non-null uint8\n",
      "native.country_Japan                         32561 non-null uint8\n",
      "native.country_Laos                          32561 non-null uint8\n",
      "native.country_Mexico                        32561 non-null uint8\n",
      "native.country_Nicaragua                     32561 non-null uint8\n",
      "native.country_Outlying-US(Guam-USVI-etc)    32561 non-null uint8\n",
      "native.country_Peru                          32561 non-null uint8\n",
      "native.country_Philippines                   32561 non-null uint8\n",
      "native.country_Poland                        32561 non-null uint8\n",
      "native.country_Portugal                      32561 non-null uint8\n",
      "native.country_Puerto-Rico                   32561 non-null uint8\n",
      "native.country_Scotland                      32561 non-null uint8\n",
      "native.country_South                         32561 non-null uint8\n",
      "native.country_Taiwan                        32561 non-null uint8\n",
      "native.country_Thailand                      32561 non-null uint8\n",
      "native.country_Trinadad&Tobago               32561 non-null uint8\n",
      "native.country_United-States                 32561 non-null uint8\n",
      "native.country_Vietnam                       32561 non-null uint8\n",
      "native.country_Yugoslavia                    32561 non-null uint8\n",
      "dtypes: int64(9), uint8(84)\n",
      "memory usage: 4.8 MB\n"
     ]
    }
   ],
   "source": [
    "from sklearn.preprocessing import LabelEncoder\n",
    "label_encode_cols = ['income', 'sex']\n",
    "\n",
    "for col in label_encode_cols:\n",
    "    lbl = LabelEncoder()\n",
    "    data[col] = lbl.fit_transform(data[col])\n",
    "\n",
    "\n",
    "data = pd.get_dummies(data, columns=['workclass', 'marital.status', 'occupation', 'relationship',\n",
    "                                    'race', 'native.country'])\n",
    "\n",
    "data.info()"
   ]
  },
  {
   "cell_type": "markdown",
   "metadata": {},
   "source": [
    "### Scaling the Data"
   ]
  },
  {
   "cell_type": "code",
   "execution_count": 8,
   "metadata": {
    "collapsed": false
   },
   "outputs": [
    {
     "name": "stderr",
     "output_type": "stream",
     "text": [
      "//anaconda/lib/python3.5/site-packages/sklearn/utils/validation.py:444: DataConversionWarning: Data with input dtype int64 was converted to float64 by StandardScaler.\n",
      "  warnings.warn(msg, DataConversionWarning)\n",
      "//anaconda/lib/python3.5/site-packages/sklearn/utils/validation.py:444: DataConversionWarning: Data with input dtype uint8 was converted to float64 by StandardScaler.\n",
      "  warnings.warn(msg, DataConversionWarning)\n"
     ]
    }
   ],
   "source": [
    "from sklearn.preprocessing import StandardScaler\n",
    "X = data.drop(['income'], axis=1)\n",
    "y = data['income']\n",
    "for col in X.columns:\n",
    "    scaler = StandardScaler()\n",
    "    X[col] = scaler.fit_transform(X[col].values.reshape(-1, 1))\n"
   ]
  },
  {
   "cell_type": "markdown",
   "metadata": {},
   "source": [
    "### Splitting the Data into Training and Testing Sets"
   ]
  },
  {
   "cell_type": "code",
   "execution_count": 9,
   "metadata": {
    "collapsed": true
   },
   "outputs": [],
   "source": [
    "from sklearn.model_selection import train_test_split\n",
    "\n",
    "X_train, X_test, y_train, y_test = train_test_split(X, y, test_size=0.2, random_state=42)"
   ]
  },
  {
   "cell_type": "code",
   "execution_count": 10,
   "metadata": {
    "collapsed": false
   },
   "outputs": [
    {
     "data": {
      "text/plain": [
       "6010     0\n",
       "4461     0\n",
       "8762     0\n",
       "26437    0\n",
       "2952     1\n",
       "21580    0\n",
       "16361    0\n",
       "10508    1\n",
       "21269    0\n",
       "10914    0\n",
       "24091    1\n",
       "10042    0\n",
       "5824     0\n",
       "23009    0\n",
       "20200    1\n",
       "2084     1\n",
       "5503     0\n",
       "9328     0\n",
       "27232    1\n",
       "7420     1\n",
       "11491    0\n",
       "8161     0\n",
       "9892     1\n",
       "17316    0\n",
       "8483     0\n",
       "23843    0\n",
       "6081     0\n",
       "4305     0\n",
       "11358    0\n",
       "29827    0\n",
       "        ..\n",
       "5051     0\n",
       "5311     1\n",
       "2433     1\n",
       "23333    0\n",
       "32157    1\n",
       "30187    0\n",
       "26967    0\n",
       "769      1\n",
       "32052    0\n",
       "1685     1\n",
       "8322     1\n",
       "16023    0\n",
       "27495    1\n",
       "11363    0\n",
       "28020    0\n",
       "14423    0\n",
       "21962    0\n",
       "4426     0\n",
       "29910    1\n",
       "16850    0\n",
       "6265     0\n",
       "22118    0\n",
       "11284    0\n",
       "11964    0\n",
       "21575    0\n",
       "29802    0\n",
       "5390     1\n",
       "860      1\n",
       "15795    1\n",
       "23654    0\n",
       "Name: income, Length: 29304, dtype: int64"
      ]
     },
     "execution_count": 10,
     "metadata": {},
     "output_type": "execute_result"
    }
   ],
   "source": [
    "y_train"
   ]
  },
  {
   "cell_type": "markdown",
   "metadata": {},
   "source": [
    "### Building the Structure of a Neural Network in Keras"
   ]
  },
  {
   "cell_type": "code",
   "execution_count": 21,
   "metadata": {
    "collapsed": false
   },
   "outputs": [
    {
     "name": "stdout",
     "output_type": "stream",
     "text": [
      "_________________________________________________________________\n",
      "Layer (type)                 Output Shape              Param #   \n",
      "=================================================================\n",
      "dense_14 (Dense)             (None, 92)                8556      \n",
      "_________________________________________________________________\n",
      "dense_15 (Dense)             (None, 184)               17112     \n",
      "_________________________________________________________________\n",
      "dense_16 (Dense)             (None, 92)                17020     \n",
      "_________________________________________________________________\n",
      "dense_17 (Dense)             (None, 1)                 93        \n",
      "=================================================================\n",
      "Total params: 42,781\n",
      "Trainable params: 42,781\n",
      "Non-trainable params: 0\n",
      "_________________________________________________________________\n",
      "None\n"
     ]
    }
   ],
   "source": [
    "from keras.models import Sequential\n",
    "from keras.layers import Dense\n",
    "\n",
    "model = Sequential()\n",
    "model.add(Dense(92, input_dim=92, activation='sigmoid'))\n",
    "model.add(Dense(184, activation='sigmoid'))\n",
    "model.add(Dense(92, activation='sigmoid'))\n",
    "model.add(Dense(1, activation='sigmoid'))\n",
    "\n",
    "print(model.summary())"
   ]
  },
  {
   "cell_type": "markdown",
   "metadata": {},
   "source": [
    "### Adding a Loss Function and Optimizer to the Neural Network"
   ]
  },
  {
   "cell_type": "code",
   "execution_count": 22,
   "metadata": {
    "collapsed": false
   },
   "outputs": [],
   "source": [
    "model.compile(loss='binary_crossentropy', optimizer='adam', metrics=['accuracy'])"
   ]
  },
  {
   "cell_type": "markdown",
   "metadata": {},
   "source": [
    "### Training the Model"
   ]
  },
  {
   "cell_type": "code",
   "execution_count": 23,
   "metadata": {
    "collapsed": false
   },
   "outputs": [
    {
     "name": "stdout",
     "output_type": "stream",
     "text": [
      "Train on 29304 samples, validate on 3257 samples\n",
      "Epoch 1/20\n",
      "29304/29304 [==============================] - 1s - loss: 0.3584 - acc: 0.8330 - val_loss: 0.3345 - val_acc: 0.8434\n",
      "Epoch 2/20\n",
      "29304/29304 [==============================] - 1s - loss: 0.3257 - acc: 0.8482 - val_loss: 0.3295 - val_acc: 0.8449\n",
      "Epoch 3/20\n",
      "29304/29304 [==============================] - 1s - loss: 0.3199 - acc: 0.8524 - val_loss: 0.3282 - val_acc: 0.8446\n",
      "Epoch 4/20\n",
      "29304/29304 [==============================] - 1s - loss: 0.3167 - acc: 0.8512 - val_loss: 0.3257 - val_acc: 0.8465\n",
      "Epoch 5/20\n",
      "29304/29304 [==============================] - 1s - loss: 0.3130 - acc: 0.8535 - val_loss: 0.3298 - val_acc: 0.8428\n",
      "Epoch 6/20\n",
      "29304/29304 [==============================] - 1s - loss: 0.3124 - acc: 0.8541 - val_loss: 0.3231 - val_acc: 0.8431\n",
      "Epoch 7/20\n",
      "29304/29304 [==============================] - 1s - loss: 0.3103 - acc: 0.8541 - val_loss: 0.3262 - val_acc: 0.8465\n",
      "Epoch 8/20\n",
      "29304/29304 [==============================] - 1s - loss: 0.3086 - acc: 0.8549 - val_loss: 0.3256 - val_acc: 0.8428\n",
      "Epoch 9/20\n",
      "29304/29304 [==============================] - 1s - loss: 0.3071 - acc: 0.8555 - val_loss: 0.3241 - val_acc: 0.8465\n",
      "Epoch 10/20\n",
      "29304/29304 [==============================] - 1s - loss: 0.3048 - acc: 0.8580 - val_loss: 0.3202 - val_acc: 0.8462\n",
      "Epoch 11/20\n",
      "29304/29304 [==============================] - 1s - loss: 0.3032 - acc: 0.8580 - val_loss: 0.3189 - val_acc: 0.8480\n",
      "Epoch 12/20\n",
      "29304/29304 [==============================] - 1s - loss: 0.3013 - acc: 0.8606 - val_loss: 0.3253 - val_acc: 0.8456\n",
      "Epoch 13/20\n",
      "29304/29304 [==============================] - 1s - loss: 0.2993 - acc: 0.8599 - val_loss: 0.3191 - val_acc: 0.8477\n",
      "Epoch 14/20\n",
      "29304/29304 [==============================] - 1s - loss: 0.2980 - acc: 0.8607 - val_loss: 0.3212 - val_acc: 0.8486\n",
      "Epoch 15/20\n",
      "29304/29304 [==============================] - 1s - loss: 0.2962 - acc: 0.8622 - val_loss: 0.3168 - val_acc: 0.8496\n",
      "Epoch 16/20\n",
      "29304/29304 [==============================] - 1s - loss: 0.2943 - acc: 0.8632 - val_loss: 0.3225 - val_acc: 0.8465\n",
      "Epoch 17/20\n",
      "29304/29304 [==============================] - 1s - loss: 0.2929 - acc: 0.8644 - val_loss: 0.3219 - val_acc: 0.8511\n",
      "Epoch 18/20\n",
      "29304/29304 [==============================] - 1s - loss: 0.2908 - acc: 0.8640 - val_loss: 0.3191 - val_acc: 0.8539\n",
      "Epoch 19/20\n",
      "29304/29304 [==============================] - 1s - loss: 0.2888 - acc: 0.8652 - val_loss: 0.3344 - val_acc: 0.8499\n",
      "Epoch 20/20\n",
      "29304/29304 [==============================] - 1s - loss: 0.2875 - acc: 0.8658 - val_loss: 0.3242 - val_acc: 0.8465\n"
     ]
    },
    {
     "data": {
      "text/plain": [
       "<keras.callbacks.History at 0x12b818668>"
      ]
     },
     "execution_count": 23,
     "metadata": {},
     "output_type": "execute_result"
    }
   ],
   "source": [
    "model.fit(X_train.values, y_train, validation_data=(X_test.values, y_test), epochs=20, batch_size=32)"
   ]
  },
  {
   "cell_type": "code",
   "execution_count": null,
   "metadata": {
    "collapsed": true
   },
   "outputs": [],
   "source": []
  }
 ],
 "metadata": {
  "anaconda-cloud": {},
  "kernelspec": {
   "display_name": "Python [default]",
   "language": "python",
   "name": "python3"
  },
  "language_info": {
   "codemirror_mode": {
    "name": "ipython",
    "version": 3
   },
   "file_extension": ".py",
   "mimetype": "text/x-python",
   "name": "python",
   "nbconvert_exporter": "python",
   "pygments_lexer": "ipython3",
   "version": "3.5.2"
  }
 },
 "nbformat": 4,
 "nbformat_minor": 2
}
